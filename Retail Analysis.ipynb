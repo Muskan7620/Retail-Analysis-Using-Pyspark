{
  "nbformat": 4,
  "nbformat_minor": 0,
  "metadata": {
    "colab": {
      "provenance": []
    },
    "kernelspec": {
      "name": "python3",
      "display_name": "Python 3"
    },
    "language_info": {
      "name": "python"
    }
  },
  "cells": [
    {
      "cell_type": "code",
      "execution_count": 1,
      "metadata": {
        "colab": {
          "base_uri": "https://localhost:8080/"
        },
        "id": "ou-yDnzW0DcV",
        "outputId": "0d1f82a3-b839-4fad-ca2c-7dcfd33da778"
      },
      "outputs": [
        {
          "output_type": "stream",
          "name": "stdout",
          "text": [
            "Dataset saved: retail_sales.csv (1M rows)\n"
          ]
        }
      ],
      "source": [
        "import pandas as pd\n",
        "import numpy as np\n",
        "\n",
        "np.random.seed(42)\n",
        "\n",
        "n = 1_000_000  # 1 million transactions\n",
        "\n",
        "order_id = np.arange(1, n+1)\n",
        "customer_id = np.random.randint(1000, 50000, n)\n",
        "product_id = np.random.randint(1, 500, n)\n",
        "\n",
        "categories = [\"Electronics\", \"Clothing\", \"Groceries\", \"Furniture\"]\n",
        "category = np.random.choice(categories, n)\n",
        "\n",
        "# Assign price ranges by category\n",
        "def get_price(cat):\n",
        "    if cat == \"Electronics\": return np.random.uniform(200, 2000)\n",
        "    if cat == \"Clothing\": return np.random.uniform(20, 200)\n",
        "    if cat == \"Groceries\": return np.random.uniform(5, 100)\n",
        "    if cat == \"Furniture\": return np.random.uniform(100, 1500)\n",
        "\n",
        "price = [get_price(c) for c in category]\n",
        "quantity = np.random.randint(1, 5, n)\n",
        "\n",
        "# Generate random dates in 2023\n",
        "dates = pd.date_range(\"2023-01-01\", \"2023-12-31\", freq=\"min\")\n",
        "order_date = np.random.choice(dates, n)\n",
        "\n",
        "regions = [\"North\", \"South\", \"East\", \"West\"]\n",
        "region = np.random.choice(regions, n)\n",
        "\n",
        "df = pd.DataFrame({\n",
        "    \"order_id\": order_id,\n",
        "    \"customer_id\": customer_id,\n",
        "    \"product_id\": product_id,\n",
        "    \"category\": category,\n",
        "    \"quantity\": quantity,\n",
        "    \"price\": price,\n",
        "    \"order_date\": order_date,\n",
        "    \"region\": region\n",
        "})\n",
        "\n",
        "df.to_csv(\"retail_sales.csv\", index=False)\n",
        "print(\"Dataset saved: retail_sales.csv (1M rows)\")\n"
      ]
    },
    {
      "cell_type": "code",
      "source": [
        "from pyspark.sql import SparkSession\n",
        "from pyspark.sql import functions as F\n",
        "\n",
        "spark = SparkSession.builder.appName(\"RetailSalesAnalysis\").getOrCreate()\n",
        "\n",
        "df = spark.read.csv(\"retail_sales.csv\", header=True, inferSchema=True)\n",
        "df.printSchema()\n"
      ],
      "metadata": {
        "colab": {
          "base_uri": "https://localhost:8080/"
        },
        "id": "itC_fv0j05h9",
        "outputId": "ab8527a2-4048-4f81-8d11-0c53eb99725e"
      },
      "execution_count": 2,
      "outputs": [
        {
          "output_type": "stream",
          "name": "stdout",
          "text": [
            "root\n",
            " |-- order_id: integer (nullable = true)\n",
            " |-- customer_id: integer (nullable = true)\n",
            " |-- product_id: integer (nullable = true)\n",
            " |-- category: string (nullable = true)\n",
            " |-- quantity: integer (nullable = true)\n",
            " |-- price: double (nullable = true)\n",
            " |-- order_date: timestamp (nullable = true)\n",
            " |-- region: string (nullable = true)\n",
            "\n"
          ]
        }
      ]
    },
    {
      "cell_type": "code",
      "source": [
        "df = df.withColumn(\"revenue\", F.col(\"quantity\") * F.col(\"price\"))\n",
        "df = df.withColumn(\"order_month\", F.month(\"order_date\"))\n",
        "df = df.withColumn(\"order_weekday\", F.date_format(\"order_date\", \"E\"))\n"
      ],
      "metadata": {
        "id": "piwZRpO51E36"
      },
      "execution_count": 3,
      "outputs": []
    },
    {
      "cell_type": "code",
      "source": [
        "df.groupBy(\"product_id\").agg(F.sum(\"revenue\").alias(\"total_rev\")) \\\n",
        "  .orderBy(F.desc(\"total_rev\")).show(10)\n"
      ],
      "metadata": {
        "colab": {
          "base_uri": "https://localhost:8080/"
        },
        "id": "rJEfLBJS1JBx",
        "outputId": "1c792a4c-2d73-43e1-875f-a37434f037cd"
      },
      "execution_count": 4,
      "outputs": [
        {
          "output_type": "stream",
          "name": "stdout",
          "text": [
            "+----------+------------------+\n",
            "|product_id|         total_rev|\n",
            "+----------+------------------+\n",
            "|       205| 2833954.582678805|\n",
            "|       274|2826634.9653211506|\n",
            "|        95|2824330.4189136056|\n",
            "|        76|2799791.0453834813|\n",
            "|       464|2799489.7498408942|\n",
            "|        81| 2797065.920191269|\n",
            "|        19| 2792988.497202345|\n",
            "|        45| 2778836.708012622|\n",
            "|       352|2776001.4635309894|\n",
            "|       269| 2773642.455493124|\n",
            "+----------+------------------+\n",
            "only showing top 10 rows\n",
            "\n"
          ]
        }
      ]
    },
    {
      "cell_type": "code",
      "source": [
        "df.groupBy(\"order_month\").agg(F.sum(\"revenue\").alias(\"monthly_rev\")) \\\n",
        "  .orderBy(\"order_month\").show()\n"
      ],
      "metadata": {
        "colab": {
          "base_uri": "https://localhost:8080/"
        },
        "id": "UCGGlICM1Q0R",
        "outputId": "1c87019d-674b-43ab-f517-bade39d77406"
      },
      "execution_count": 5,
      "outputs": [
        {
          "output_type": "stream",
          "name": "stdout",
          "text": [
            "+-----------+--------------------+\n",
            "|order_month|         monthly_rev|\n",
            "+-----------+--------------------+\n",
            "|          1|1.1029762673571712E8|\n",
            "|          2|   9.9842835170913E7|\n",
            "|          3| 1.102683967617676E8|\n",
            "|          4|1.0574521968316887E8|\n",
            "|          5|1.0891324676277018E8|\n",
            "|          6|1.0621190297750077E8|\n",
            "|          7|1.1048403695400062E8|\n",
            "|          8|1.0935017197532964E8|\n",
            "|          9|1.0655383499653395E8|\n",
            "|         10| 1.096744400807445E8|\n",
            "|         11| 1.060096657663945E8|\n",
            "|         12|1.0544170212355822E8|\n",
            "+-----------+--------------------+\n",
            "\n"
          ]
        }
      ]
    },
    {
      "cell_type": "code",
      "source": [
        "df.groupBy(\"region\").agg(F.sum(\"revenue\").alias(\"regional_rev\")) \\\n",
        "  .orderBy(F.desc(\"regional_rev\")).show()\n"
      ],
      "metadata": {
        "colab": {
          "base_uri": "https://localhost:8080/"
        },
        "id": "tVoFjl8I1VrY",
        "outputId": "ddcb2e89-7190-457b-f03a-9b2ebb34edfa"
      },
      "execution_count": 6,
      "outputs": [
        {
          "output_type": "stream",
          "name": "stdout",
          "text": [
            "+------+--------------------+\n",
            "|region|        regional_rev|\n",
            "+------+--------------------+\n",
            "|  West| 3.240451326587347E8|\n",
            "|  East|3.2232213555656636E8|\n",
            "| South| 3.216136370937505E8|\n",
            "| North| 3.208121746793491E8|\n",
            "+------+--------------------+\n",
            "\n"
          ]
        }
      ]
    }
  ]
}